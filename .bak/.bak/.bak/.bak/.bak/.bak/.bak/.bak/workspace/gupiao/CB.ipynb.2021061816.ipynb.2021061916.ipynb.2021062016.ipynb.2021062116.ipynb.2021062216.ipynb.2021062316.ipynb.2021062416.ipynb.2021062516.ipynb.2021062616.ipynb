{
 "cells": [
  {
   "cell_type": "code",
   "execution_count": 1,
   "metadata": {},
   "outputs": [],
   "source": [
    "# -*- coding:utf-8 -*-\n",
    "import json\n",
    "import requests\n",
    "import csv\n",
    "import re\n",
    "from lxml import etree\n",
    "from datetime import date,datetime\n",
    "import pandas as pd\n",
    "import math"
   ]
  },
  {
   "cell_type": "code",
   "execution_count": 2,
   "metadata": {},
   "outputs": [],
   "source": [
    "#Save_interest_rate"
   ]
  },
  {
   "cell_type": "code",
   "execution_count": 16,
   "metadata": {
    "jupyter": {
     "source_hidden": true
    },
    "tags": []
   },
   "outputs": [],
   "source": [
    "def save_interest_rate(data):\n",
    "    \n",
    "    # 1. 创建文件对象\n",
    "    f = open('CB_interest_rate.csv', 'w', encoding='utf-8', newline='')\n",
    "    # 2. 基于文件对象构建 csv写入对象\n",
    "    csv_writer = csv.writer(f)\n",
    "    # 3. 构建列表头\n",
    "    csv_writer.writerow([\"id\",\"iry1\", \"iry2\", \"iry3\", \"iry4\", \"iry5\", \"iry6\"])\n",
    "    \n",
    "    count = 0\n",
    "    for item in data:\n",
    "        count +=1\n",
    "        if (count %10 == 0):\n",
    "            print(\"processing \"+str(count)+\" items\")\n",
    "        try:\n",
    "            interest = get_interest_rate(item['id'])\n",
    "            interest = [item['id']]+interest\n",
    "            csv_writer.writerow(interest)\n",
    "        except Exception as e:\n",
    "            print(\"Oops!\", e.__class__, \"occurred.\")\n",
    "            print(\"The error happed at \"+item['id'])\n",
    "    # 5. 关闭文件\n",
    "    print(\"Finished processing \"+str(count)+\" items\")\n",
    "    f.close()\n"
   ]
  },
  {
   "cell_type": "code",
   "execution_count": 4,
   "metadata": {},
   "outputs": [],
   "source": [
    "#append_interest_rate"
   ]
  },
  {
   "cell_type": "code",
   "execution_count": 18,
   "metadata": {
    "tags": []
   },
   "outputs": [],
   "source": [
    "def append_interest_rate(item):\n",
    "    \n",
    "    # 1. 创建文件对象\n",
    "    f = open('CB_interest_rate.csv', 'a', encoding='utf-8', newline='')\n",
    "    # 2. 基于文件对象构建 csv写入对象\n",
    "    csv_writer = csv.writer(f)\n",
    "\n",
    "    try:\n",
    "        interest = get_interest_rate(item['id'])\n",
    "        interest = [item['id']]+interest\n",
    "        csv_writer.writerow(interest)\n",
    "        print(\"Finished appending new CB \"+ item['name']+\" into interest rate files\")\n",
    "    except Exception as e:\n",
    "        print(\"Oops!\", e.__class__, \"occurred.\")\n",
    "        print(\"The error happed at \"+item['id'])\n",
    "    \n",
    "    # 5. 关闭文件\n",
    "    \n",
    "    f.close()\n"
   ]
  },
  {
   "cell_type": "code",
   "execution_count": null,
   "metadata": {},
   "outputs": [],
   "source": [
    "# read interest rate"
   ]
  },
  {
   "cell_type": "code",
   "execution_count": null,
   "metadata": {},
   "outputs": [],
   "source": [
    "def read_interest_rate(file=\"CB_interest_rate.csv\"):\n",
    "    "
   ]
  },
  {
   "cell_type": "code",
   "execution_count": 6,
   "metadata": {},
   "outputs": [],
   "source": [
    "#get_dat"
   ]
  },
  {
   "cell_type": "code",
   "execution_count": 7,
   "metadata": {
    "jupyter": {
     "source_hidden": true
    },
    "tags": []
   },
   "outputs": [],
   "source": [
    "def get_dat():\n",
    "    headers = {\n",
    "        #\"User-Agent\": \"Mozilla/5.0 (Windows NT 10.0; WOW64) AppleWebKit/537.36 (KHTML, like Gecko) Chrome/51.0.2704.103 Safari/537.36\",\n",
    "        \"User-agent\": \"Mozilla/5.0 (X11; Linux x86_64) AppleWebKit/537.36 (KHTML, like Gecko) Chrome/51.0.2704.106 Safari/537.36 OPR/38.0.2220.41\",\n",
    "    }\n",
    "\n",
    "    newUrl =\"https://www.jisilu.cn/data/cbnew/cb_list/?___jsl=LST___t=1584777951900\"\n",
    "    #最简单的爬虫请求.也可以加上headers字段，防止部分网址的反爬虫机制\n",
    "    response = requests.get(newUrl)\n",
    "    #当爬取的界面需要用户名密码登录时候，构建的请求需要包含auth字段\n",
    "    data = response.content.decode(\"utf-8\")\n",
    "    dat = json.loads(data)\n",
    "\n",
    "    # 所有数据\n",
    "    lst_data = []\n",
    "    count = 0\n",
    "    for one in dat['rows']:\n",
    "        # 每一条数据\n",
    "        lst_dat = dict()\n",
    "        # 转债id\n",
    "        id = one[\"id\"]\n",
    "        dat_cell = one[\"cell\"]\n",
    "        # 是否赎回\n",
    "        is_shui = dat_cell['force_redeem']\n",
    "        count += 1\n",
    "        if (count %100 == 0):\n",
    "            print(\"processing \"+str(count)+\" items\")\n",
    "        if is_shui == None:\n",
    "            # 转债名称\n",
    "            name = dat_cell['bond_nm']\n",
    "            # 现价\n",
    "            price = dat_cell['price']\n",
    "            # 溢价率\n",
    "            premium_rt = dat_cell['premium_rt']\n",
    "            # 评级\n",
    "            rating_cd = dat_cell['rating_cd']\n",
    "            \n",
    "            \n",
    "            # next put date\n",
    "            next_put_dt = dat_cell['next_put_dt']\n",
    "            # put price\n",
    "            put_price   = dat_cell['put_price']\n",
    "            # 回售触发价\n",
    "            put_convert_price = dat_cell['put_convert_price']\n",
    "            \n",
    "            \n",
    "            # maturity date\n",
    "            maturity_dt = dat_cell['maturity_dt']\n",
    "            # redeem price\n",
    "            redeem_price = dat_cell['redeem_price']\n",
    "            \n",
    "            # 强赎触发价\n",
    "            force_redeem_price = dat_cell['force_redeem_price']\n",
    "            # 剩余时间\n",
    "            last_time = dat_cell['year_left']\n",
    "            pb = dat_cell['pb']\n",
    "\n",
    "\n",
    "            #lst_dat.append(id)\n",
    "            lst_dat['id'] = id\n",
    "            lst_dat['name'] = name\n",
    "            lst_dat['price'] = price\n",
    "            lst_dat['premium_rt'] = premium_rt\n",
    "            lst_dat['rating_cd'] = rating_cd\n",
    "            \n",
    "            lst_dat['next_put_dt'] = next_put_dt\n",
    "            lst_dat['put_price'] = put_price\n",
    "            lst_dat['put_convert_price'] = put_convert_price\n",
    "            \n",
    "            lst_dat['maturity_dt'] = maturity_dt\n",
    "            lst_dat['redeem_price'] = redeem_price\n",
    "            \n",
    "            lst_dat['force_redeem_price'] = force_redeem_price\n",
    "            lst_dat['last_time'] = last_time\n",
    "            lst_dat['pb']  = pb\n",
    "  \n",
    "            lst_data.append(lst_dat)\n",
    "            \n",
    "        else:\n",
    "            continue\n",
    "    print(\"Finished processing \"+str(count)+\" items\")\n",
    "    \n",
    "    return lst_data"
   ]
  },
  {
   "cell_type": "code",
   "execution_count": 8,
   "metadata": {},
   "outputs": [],
   "source": [
    "#get_interest_rate"
   ]
  },
  {
   "cell_type": "code",
   "execution_count": 9,
   "metadata": {
    "jupyter": {
     "source_hidden": true
    },
    "tags": []
   },
   "outputs": [],
   "source": [
    "def get_interest_rate(id):\n",
    "    years = 6\n",
    "    detials_url = 'https://www.jisilu.cn/data/convert_bond_detail/'+id\n",
    "    detials_response = requests.get(detials_url)\n",
    "    html = detials_response.content.decode(\"utf-8\")\n",
    "    html = etree.HTML(html)\n",
    "    interest = html.xpath('.//td[@id=\"cpn_desc\"]/text()')\n",
    "    pattern = re.compile(r'(?<!\\d|\\.)\\d+(?:\\.\\d+)?')  #get proper format number\n",
    "    interest = pattern.findall(interest[0])\n",
    "    \n",
    "    if(len(interest) == 1):\n",
    "        interest = interest*years\n",
    "    return interest"
   ]
  },
  {
   "cell_type": "code",
   "execution_count": 10,
   "metadata": {},
   "outputs": [],
   "source": [
    "#put arbitrage"
   ]
  },
  {
   "cell_type": "code",
   "execution_count": 11,
   "metadata": {
    "jupyter": {
     "source_hidden": true
    },
    "tags": []
   },
   "outputs": [],
   "source": [
    "def put_arbitrage(data):\n",
    "    put_data = []\n",
    "    count = 0\n",
    "    for item in data:\n",
    "        price       = item['price']\n",
    "        put_price   = item['put_price']\n",
    "\n",
    "        \n",
    "        if(put_price is None):\n",
    "            continue\n",
    "            \n",
    "        price = float(price)\n",
    "        put_price = float(put_price)\n",
    "            \n",
    "        if(price>put_price+5.0): ###To Save Time, the maximun interest could not over 10\n",
    "            continue\n",
    "            \n",
    "\n",
    "        \n",
    "        next_put_dt = item['next_put_dt']\n",
    "        next_put_dt = datetime.strptime(next_put_dt,'%Y-%m-%d').date()\n",
    "        maturity_dt = item['maturity_dt']\n",
    "        maturity_dt = datetime.strptime(maturity_dt,'%Y-%m-%d').date()\n",
    "        today = date.today()\n",
    "        \n",
    "        \n",
    "        days_to_maturity = maturity_dt-today\n",
    "        years_to_maturity = days_to_maturity.days/365\n",
    "        days_to_put  = next_put_dt-today\n",
    "        years_to_put  = days_to_put.days/365\n",
    "        \n",
    "        put_to_maturity = round(years_to_maturity-years_to_put)\n",
    "        #print(put_to_maturity)\n",
    "        \n",
    "        \n",
    "        \"\"\"\n",
    "        interest = get_interest_rate(item['id'])\n",
    "        total_interest = 0\n",
    "        for i in range(3,math.ceil(years_to_put)+put_to_maturity+1):\n",
    "            #print(i)\n",
    "            #print(interest)\n",
    "            #print(item['id'])\n",
    "            total_interest += float(interest[-i])\n",
    "        \n",
    "        \n",
    "        \"\"\"\n",
    "        \n",
    "        actual_put_price = put_price*(1+total_interest*0.008)\n",
    "        \n",
    "        \n",
    "        if(price<actual_put_price):\n",
    "            year_diff = years_to_put + 38/365\n",
    "            profit_rate = actual_put_price/price\n",
    "            CAGR  = profit_rate ** (1/year_diff)-1\n",
    "            item['actual_put_price'] = actual_put_price\n",
    "            item['CAGR'] = CAGR\n",
    "            item['last_to_put'] = year_diff\n",
    "            put_data.append(item)\n",
    "        \n",
    "        count += 1\n",
    "        if (count %100 == 0):\n",
    "            print(\"processing\"+str(count)+\" items\")\n",
    "    \n",
    "    print(\"Finished processing \"+str(count)+\" items\")\n",
    "    df = pd.DataFrame(put_data)\n",
    "    df = df.set_index(['id', 'name'])\n",
    "    df = df.sort_values('CAGR',ascending=False)\n",
    "    return df\n",
    "          "
   ]
  },
  {
   "cell_type": "code",
   "execution_count": 12,
   "metadata": {},
   "outputs": [],
   "source": [
    "# redeem arbitrage"
   ]
  },
  {
   "cell_type": "code",
   "execution_count": 13,
   "metadata": {
    "jupyter": {
     "source_hidden": true
    },
    "tags": []
   },
   "outputs": [],
   "source": [
    "def redeem_arbitrage(data):\n",
    "    put_data = []\n",
    "    for item in data:\n",
    "        price       = item['price']\n",
    "        redeem_price   = item['redeem_price']\n",
    "\n",
    "        \n",
    "        if(redeem_price is None):\n",
    "            continue\n",
    "            \n",
    "        price = float(price)\n",
    "        redeem_price = float(redeem_price)\n",
    "            \n",
    "\n",
    "        \n",
    "        maturity_dt = item['maturity_dt']\n",
    "        maturity_dt = datetime.strptime(maturity_dt,'%Y-%m-%d').date()\n",
    "        today = date.today()\n",
    "        \n",
    "        days_to_maturity = maturity_dt-today\n",
    "        years_to_maturity = days_to_maturity.days/365\n",
    "        \n",
    "        if(price<redeem_price):\n",
    "            year_diff = years_to_maturity\n",
    "            profit_rate = redeem_price/price\n",
    "            CAGR  = profit_rate ** (1/year_diff)-1\n",
    "            item['CAGR'] = CAGR\n",
    "            put_data.append(item)\n",
    "    df = pd.DataFrame(put_data)\n",
    "    df = df.set_index(['id', 'name'])\n",
    "    df = df.sort_values('CAGR',ascending=False)\n",
    "    return df\n",
    "          "
   ]
  },
  {
   "cell_type": "code",
   "execution_count": 14,
   "metadata": {},
   "outputs": [
    {
     "name": "stdout",
     "output_type": "stream",
     "text": [
      "processing 100 items\n",
      "processing 200 items\n",
      "processing 300 items\n",
      "Finished processing 385 items\n"
     ]
    }
   ],
   "source": [
    "data = get_dat()"
   ]
  },
  {
   "cell_type": "code",
   "execution_count": 17,
   "metadata": {},
   "outputs": [
    {
     "name": "stdout",
     "output_type": "stream",
     "text": [
      "processing 10 items\n",
      "processing 20 items\n",
      "processing 30 items\n",
      "processing 40 items\n",
      "processing 50 items\n",
      "processing 60 items\n",
      "processing 70 items\n",
      "processing 80 items\n",
      "processing 90 items\n",
      "processing 100 items\n",
      "processing 110 items\n",
      "processing 120 items\n",
      "processing 130 items\n",
      "processing 140 items\n",
      "processing 150 items\n",
      "processing 160 items\n",
      "processing 170 items\n",
      "processing 180 items\n",
      "processing 190 items\n",
      "processing 200 items\n",
      "processing 210 items\n",
      "processing 220 items\n",
      "processing 230 items\n",
      "processing 240 items\n",
      "processing 250 items\n",
      "processing 260 items\n",
      "processing 270 items\n",
      "processing 280 items\n",
      "processing 290 items\n",
      "processing 300 items\n",
      "processing 310 items\n",
      "processing 320 items\n",
      "processing 330 items\n",
      "Finished processing 332 items\n"
     ]
    }
   ],
   "source": [
    "# use only one time\n",
    "#save_interest_rate(data)"
   ]
  },
  {
   "cell_type": "code",
   "execution_count": null,
   "metadata": {},
   "outputs": [],
   "source": [
    "#redeem_df = redeem_arbitrage(data)"
   ]
  },
  {
   "cell_type": "code",
   "execution_count": null,
   "metadata": {},
   "outputs": [],
   "source": [
    "#redeem_df"
   ]
  },
  {
   "cell_type": "code",
   "execution_count": null,
   "metadata": {},
   "outputs": [],
   "source": []
  },
  {
   "cell_type": "code",
   "execution_count": null,
   "metadata": {},
   "outputs": [],
   "source": [
    "#put_df = put_arbitrage(data)"
   ]
  },
  {
   "cell_type": "code",
   "execution_count": null,
   "metadata": {},
   "outputs": [],
   "source": [
    "#put_df"
   ]
  }
 ],
 "metadata": {
  "kernelspec": {
   "display_name": "Python 3",
   "language": "python",
   "name": "python3"
  },
  "language_info": {
   "codemirror_mode": {
    "name": "ipython",
    "version": 3
   },
   "file_extension": ".py",
   "mimetype": "text/x-python",
   "name": "python",
   "nbconvert_exporter": "python",
   "pygments_lexer": "ipython3",
   "version": "3.7.3"
  }
 },
 "nbformat": 4,
 "nbformat_minor": 4
}
